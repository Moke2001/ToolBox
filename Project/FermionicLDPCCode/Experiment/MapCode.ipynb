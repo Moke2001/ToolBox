{
 "cells": [
  {
   "cell_type": "code",
   "id": "initial_id",
   "metadata": {
    "collapsed": true,
    "ExecuteTime": {
     "end_time": "2025-03-19T06:36:53.782862Z",
     "start_time": "2025-03-19T06:36:53.695686Z"
    }
   },
   "source": [
    "from Physics.QuantumComputation.CliffordSimulator.Code.ClassicalCode.RegularCode import RegularCode\n",
    "from Physics.QuantumComputation.Code.QuantumCode.PauliCode.PauliHypergraphProductCode import pauli_hypergraph_product_code\n",
    "from Physics.QuantumComputation.Code.QuantumCode.Transformer.Css2Majorana import css2majorana\n",
    "\n",
    "regular_code=RegularCode(12)\n",
    "pauli_code=pauli_hypergraph_product_code(regular_code)\n",
    "majorana_code=css2majorana(pauli_code)"
   ],
   "outputs": [
    {
     "ename": "TypeError",
     "evalue": "'float' object cannot be interpreted as an integer",
     "output_type": "error",
     "traceback": [
      "\u001B[1;31m---------------------------------------------------------------------------\u001B[0m",
      "\u001B[1;31mTypeError\u001B[0m                                 Traceback (most recent call last)",
      "Cell \u001B[1;32mIn[4], line 5\u001B[0m\n\u001B[0;32m      2\u001B[0m \u001B[38;5;28;01mfrom\u001B[39;00m \u001B[38;5;21;01mProject\u001B[39;00m\u001B[38;5;21;01m.\u001B[39;00m\u001B[38;5;21;01mFermionicLDPCCode\u001B[39;00m\u001B[38;5;21;01m.\u001B[39;00m\u001B[38;5;21;01mMain\u001B[39;00m\u001B[38;5;21;01m.\u001B[39;00m\u001B[38;5;21;01mPauliHypergraphProductCode\u001B[39;00m \u001B[38;5;28;01mimport\u001B[39;00m pauli_hypergraph_product_code\n\u001B[0;32m      3\u001B[0m \u001B[38;5;28;01mfrom\u001B[39;00m \u001B[38;5;21;01mProject\u001B[39;00m\u001B[38;5;21;01m.\u001B[39;00m\u001B[38;5;21;01mFermionicLDPCCode\u001B[39;00m\u001B[38;5;21;01m.\u001B[39;00m\u001B[38;5;21;01mMain\u001B[39;00m\u001B[38;5;21;01m.\u001B[39;00m\u001B[38;5;21;01mCss2Fermi\u001B[39;00m \u001B[38;5;28;01mimport\u001B[39;00m css2majorana\n\u001B[1;32m----> 5\u001B[0m regular_code\u001B[38;5;241m=\u001B[39m\u001B[43mRegularCode\u001B[49m\u001B[43m(\u001B[49m\u001B[38;5;241;43m12\u001B[39;49m\u001B[43m)\u001B[49m\n\u001B[0;32m      6\u001B[0m pauli_code\u001B[38;5;241m=\u001B[39mpauli_hypergraph_product_code(regular_code)\n\u001B[0;32m      7\u001B[0m majorana_code\u001B[38;5;241m=\u001B[39mcss2majorana(pauli_code)\n",
      "File \u001B[1;32m~\\Desktop\\Cloud\\Program\\ToolBox\\Physics\\QuantumComputation\\CliffordSimulator\\Code\\ClassicalCode\\RegularCode.py:16\u001B[0m, in \u001B[0;36mRegularCode.__init__\u001B[1;34m(self, n)\u001B[0m\n\u001B[0;32m     13\u001B[0m \u001B[38;5;28msuper\u001B[39m()\u001B[38;5;241m.\u001B[39m\u001B[38;5;21m__init__\u001B[39m(n)\n\u001B[0;32m     15\u001B[0m \u001B[38;5;66;03m# 生成基础子矩阵\u001B[39;00m\n\u001B[1;32m---> 16\u001B[0m H_sub \u001B[38;5;241m=\u001B[39m \u001B[43mnp\u001B[49m\u001B[38;5;241;43m.\u001B[39;49m\u001B[43mzeros\u001B[49m\u001B[43m(\u001B[49m\u001B[43m(\u001B[49m\u001B[43msub_rows\u001B[49m\u001B[43m,\u001B[49m\u001B[43m \u001B[49m\u001B[43mn\u001B[49m\u001B[43m)\u001B[49m\u001B[43m,\u001B[49m\u001B[43m \u001B[49m\u001B[43mdtype\u001B[49m\u001B[38;5;241;43m=\u001B[39;49m\u001B[38;5;28;43mint\u001B[39;49m\u001B[43m)\u001B[49m\n\u001B[0;32m     17\u001B[0m \u001B[38;5;28;01mfor\u001B[39;00m i \u001B[38;5;129;01min\u001B[39;00m \u001B[38;5;28mrange\u001B[39m(sub_rows):\n\u001B[0;32m     18\u001B[0m     H_sub[i, i \u001B[38;5;241m*\u001B[39m w_r: (i \u001B[38;5;241m+\u001B[39m \u001B[38;5;241m1\u001B[39m) \u001B[38;5;241m*\u001B[39m w_r] \u001B[38;5;241m=\u001B[39m \u001B[38;5;241m1\u001B[39m\n",
      "\u001B[1;31mTypeError\u001B[0m: 'float' object cannot be interpreted as an integer"
     ]
    }
   ],
   "execution_count": 4
  }
 ],
 "metadata": {
  "kernelspec": {
   "display_name": "Python 3",
   "language": "python",
   "name": "python3"
  },
  "language_info": {
   "codemirror_mode": {
    "name": "ipython",
    "version": 2
   },
   "file_extension": ".py",
   "mimetype": "text/x-python",
   "name": "python",
   "nbconvert_exporter": "python",
   "pygments_lexer": "ipython2",
   "version": "2.7.6"
  }
 },
 "nbformat": 4,
 "nbformat_minor": 5
}
